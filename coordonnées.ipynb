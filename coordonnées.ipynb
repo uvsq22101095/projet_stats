{
 "cells": [
  {
   "cell_type": "markdown",
   "metadata": {},
   "source": [
    "création des coordonnées pour chaques point \n",
    "\n",
    "    +\n",
    "\n",
    "création d'un fichier texte pour noter toutes les coordonnées"
   ]
  },
  {
   "cell_type": "code",
   "execution_count": 2,
   "metadata": {},
   "outputs": [
    {
     "name": "stdout",
     "output_type": "stream",
     "text": [
      "['79', '340', '246', '145', '333', '364', '319', '350', '404', '367', '355', '82', '456', '27', '325', '159', '422', '426', '210', '42', '59', '284', '236', '14', '75', '499', '20', '39', '438', '72', '346', '459', '26', '27', '270', '401', '15', '342', '343', '149', '485', '364', '36', '441', '78', '158', '329', '360', '205', '269', '119', '83', '261', '299', '25', '389', '466', '396', '387', '144', '247', '476', '440', '117', '279', '325', '307', '55', '170', '86', '385', '269', '204', '357', '285', '5', '230', '364', '157', '148', '283', '287', '445', '309', '328', '294', '219', '27', '436', '36', '152', '345', '114', '471', '201', '67', '82', '318', '253', '103', '16', '159', '288', '419', '321', '178', '187', '158', '344', '322', '265', '285', '49', '99', '64', '390', '203', '157', '434', '213', '92', '441', '379', '298', '2', '426', '194', '30', '305', '443', '314', '153', '390', '179', '164', '479', '166', '100', '433', '322', '388', '253', '483', '367', '374', '236', '242', '5', '196', '3', '480', '103', '326', '497', '112', '190', '161', '261', '148', '399', '129', '203', '291', '460', '475', '466', '457', '212', '90', '116', '297', '36', '344', '152', '283', '470', '89', '72', '179', '387', '143', '315', '489', '181', '496', '410', '316', '109', '380', '212', '123', '354', '298', '139', '359', '320', '166', '244', '213', '34']\n"
     ]
    }
   ],
   "source": [
    "import random as rd\n",
    "\n",
    "L = []\n",
    "\n",
    "n = int(input(\"un nombre pair\"))\n",
    "\n",
    "fic = open(\"notes\", \"w\")\n",
    "for i in range(n):\n",
    "    x = rd.randint(1, 500)\n",
    "    y = rd.randint(1, 500)\n",
    "    fic.write(str(x) + \" \" + str(y) + \"\\n\")\n",
    "fic.close()\n",
    "\n",
    "fic = open(\"notes\", \"r\")\n",
    "while True:\n",
    "    ligne = fic.readline()\n",
    "    if ligne == \"\":\n",
    "        break\n",
    "fic.close()\n",
    "\n",
    "\n",
    "\n",
    "fic=open(\"notes\",\"r\")\n",
    "for i in range(n) :\n",
    "    line = fic.readline()\n",
    "    val = line.split()\n",
    "    L  += [val[0], val[1]]\n",
    "print(L)\n",
    "fic.close()\n",
    "\n",
    "\n",
    "\n",
    "\n"
   ]
  },
  {
   "cell_type": "markdown",
   "metadata": {},
   "source": [
    "test avec les coordonnées\n",
    "\n",
    "(création des point sur le canvas)"
   ]
  },
  {
   "cell_type": "code",
   "execution_count": 7,
   "metadata": {},
   "outputs": [
    {
     "name": "stderr",
     "output_type": "stream",
     "text": [
      "Exception in Tkinter callback\n",
      "Traceback (most recent call last):\n",
      "  File \"C:\\Users\\Johan\\miniconda3\\envs\\l1-python\\lib\\tkinter\\__init__.py\", line 1892, in __call__\n",
      "    return self.func(*args)\n",
      "TypeError: POINT_MOYEN() missing 1 required positional argument: 'L'\n"
     ]
    }
   ],
   "source": [
    "import tkinter as tk\n",
    "\n",
    "HEIGHT = 500\n",
    "WIDTH = 500\n",
    "\n",
    "racine = tk.Tk()\n",
    "canvas = tk.Canvas(racine, height=HEIGHT, width=WIDTH)\n",
    "canvas.grid(row = 2, column = 1)\n",
    "\n",
    "for i in range(5):\n",
    "    canvas.create_line((0,i*100),(WIDTH,i*100), fill=\"pink\", width=3)\n",
    "    canvas.create_line((i*100, 0),(i*100, HEIGHT), fill=\"pink\", width=3)\n",
    "\n",
    "canvas.create_line((0,0),(0,HEIGHT), fill= \"blue2\", width=10)\n",
    "canvas.create_line((0,HEIGHT),(WIDTH,HEIGHT), fill= \"blue2\", width=3)\n",
    "canvas.create_line((0,0),(10,10), fill= \"blue2\", width=3)\n",
    "canvas.create_line((WIDTH-10,HEIGHT-10),(WIDTH,HEIGHT), fill= \"blue2\", width=3)\n",
    "\n",
    "\n",
    "for i in range (1, n, 2) :\n",
    "    x = WIDTH - int(L[i])\n",
    "    y = HEIGHT - int(L[i+1])\n",
    "    # la création de variable x et y est nécessaire pour avoir un plan dans le bon sens avec des points au bon endroits\n",
    "    canvas.create_oval(x + 1, y + 1, x - 1, y - 1, fill=\"red\")\n",
    "\n",
    "def POINT_MOYEN(L) :\n",
    "    for i in range(1, n, 2) :\n",
    "        X_moyen += L[i]\n",
    "        Y_moyen += L[i+1]\n",
    "    X = X_moyen / n\n",
    "    Y = Y_moyen / n \n",
    "    canvas.create_oval(X + 5, Y + 5, X - 5, Y - 5, fill=\"deep pink\")\n",
    "\n",
    "bouton_point_moyen = tk.Button(racine, text = \"point moyen\", command = POINT_MOYEN)\n",
    "\n",
    "bouton_point_moyen.grid(row=1,column=1)\n",
    "\n",
    "racine.mainloop()"
   ]
  },
  {
   "cell_type": "markdown",
   "metadata": {},
   "source": [
    "test pour le point moyen"
   ]
  },
  {
   "cell_type": "code",
   "execution_count": 4,
   "metadata": {},
   "outputs": [],
   "source": [
    "def POINT_MOYEN(L) :\n",
    "    for i in range(1, n, 2) :\n",
    "        X_moyen += L[i]\n",
    "        Y_moyen += L[i+1]\n",
    "    X = X_moyen / n\n",
    "    Y = Y_moyen / n \n",
    "    canvas.create_oval(X + 5, Y + 5, X - 5, Y - 5, fill=\"deep pink\")\n"
   ]
  },
  {
   "cell_type": "markdown",
   "metadata": {},
   "source": [
    "super test"
   ]
  },
  {
   "cell_type": "code",
   "execution_count": 14,
   "metadata": {},
   "outputs": [
    {
     "name": "stdout",
     "output_type": "stream",
     "text": [
      "['163', '268', '174', '153', '114', '429', '190', '440', '273', '452', '395', '339', '135', '126', '146', '383', '251', '120', '249', '1', '318', '7', '302', '182', '79', '219', '435', '365', '359', '185', '98', '488', '410', '208', '257', '32', '435', '253', '304', '418', '317', '334', '213', '33', '247', '81', '157', '266', '205', '137', '200', '108', '384', '364', '151', '159', '189', '239', '204', '72', '290', '16', '139', '378', '234', '142', '204', '174', '48', '187', '18', '145', '101', '483', '412', '279', '439', '143', '210', '71', '78', '93', '176', '297', '271', '291', '382', '328', '392', '10', '300', '28', '357', '443', '499', '455', '245', '96', '404', '389', '284', '423', '180', '438', '91', '363', '458', '51', '50', '413', '98', '471', '497', '317', '398', '209', '453', '248', '337', '242', '79', '457', '6', '45', '448', '142', '496', '176', '158', '214', '35', '143', '33', '58', '463', '404', '160', '6', '452', '223', '39', '353', '342', '407', '12', '204', '198', '78', '375', '473', '254', '202', '33', '274', '358', '24', '1', '158', '144', '423', '123', '54', '331', '144', '285', '3', '352', '41', '62', '284', '391', '36', '32', '49', '129', '363', '27', '219', '186', '440', '125', '56', '475', '62', '135', '15', '241', '429', '25', '311', '182', '265', '4', '140', '468', '178', '17', '215', '7', '165']\n"
     ]
    }
   ],
   "source": [
    "import random as rd\n",
    "\n",
    "import tkinter as tk\n",
    "\n",
    "HEIGHT = 500\n",
    "WIDTH = 500\n",
    "\n",
    "racine = tk.Tk()\n",
    "canvas = tk.Canvas(racine, height=HEIGHT, width=WIDTH)\n",
    "canvas.grid(row = 2, column = 1)\n",
    "\n",
    "L = []\n",
    "X_moyen = 0\n",
    "Y_moyen = 0\n",
    "\n",
    "n = int(input(\"un nombre pair\"))\n",
    "\n",
    "fic = open(\"notes\", \"w\")\n",
    "for i in range(n):\n",
    "    x = rd.randint(1, 500)\n",
    "    y = rd.randint(1, 500)\n",
    "    fic.write(str(x) + \" \" + str(y) + \"\\n\")\n",
    "fic.close()\n",
    "\n",
    "fic = open(\"notes\", \"r\")\n",
    "while True:\n",
    "    ligne = fic.readline()\n",
    "    if ligne == \"\":\n",
    "        break\n",
    "fic.close()\n",
    "\n",
    "\n",
    "\n",
    "fic=open(\"notes\",\"r\")\n",
    "for i in range(n) :\n",
    "    line = fic.readline()\n",
    "    val = line.split()\n",
    "    L  += [val[0], val[1]]\n",
    "print(L)\n",
    "fic.close()\n",
    "\n",
    "\n",
    "\n",
    "for i in range(5):\n",
    "    canvas.create_line((0,i*100),(WIDTH,i*100), fill=\"pink\", width=3)\n",
    "    canvas.create_line((i*100, 0),(i*100, HEIGHT), fill=\"pink\", width=3)\n",
    "\n",
    "canvas.create_line((0,0),(0,HEIGHT), fill= \"blue2\", width=10)\n",
    "canvas.create_line((0,HEIGHT),(WIDTH,HEIGHT), fill= \"blue2\", width=3)\n",
    "canvas.create_line((0,0),(10,10), fill= \"blue2\", width=3)\n",
    "canvas.create_line((WIDTH-10,HEIGHT-10),(WIDTH,HEIGHT), fill= \"blue2\", width=3)\n",
    "\n",
    "\n",
    "for i in range (1, n, 2) :\n",
    "    x = WIDTH - int(L[i])\n",
    "    y = HEIGHT - int(L[i+1])\n",
    "    # la création de variable x et y est nécessaire pour avoir un plan dans le bon sens avec des points au bon endroits\n",
    "    canvas.create_oval(x + 1, y + 1, x - 1, y - 1, fill=\"red\")\n",
    "\n",
    "\n",
    "for i in range(1, n, 2) :\n",
    "     X_moyen += int(L[i])\n",
    "     Y_moyen += int(L[i+1])\n",
    "X = X_moyen / n\n",
    "Y = Y_moyen / n \n",
    "canvas.create_oval(X + 5, Y + 5, X - 5, Y - 5, fill=\"deep pink\")\n",
    "\n",
    "\n",
    "\n",
    "\n",
    "\n",
    "racine.mainloop()\n"
   ]
  }
 ],
 "metadata": {
  "interpreter": {
   "hash": "1dd6737639af4bf8956431f186ef72665a0861306c1bb5f3c1fab86cc2ebb376"
  },
  "kernelspec": {
   "display_name": "Python 3.9.7 ('l1-python')",
   "language": "python",
   "name": "python3"
  },
  "language_info": {
   "codemirror_mode": {
    "name": "ipython",
    "version": 3
   },
   "file_extension": ".py",
   "mimetype": "text/x-python",
   "name": "python",
   "nbconvert_exporter": "python",
   "pygments_lexer": "ipython3",
   "version": "3.9.7"
  },
  "orig_nbformat": 4
 },
 "nbformat": 4,
 "nbformat_minor": 2
}
