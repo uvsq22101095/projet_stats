{
 "cells": [
  {
   "cell_type": "markdown",
   "metadata": {},
   "source": [
    "création des coordonnées pour chaques point \n",
    "\n",
    "    +\n",
    "\n",
    "création d'un fichier texte pour noter toutes les coordonnées"
   ]
  },
  {
   "cell_type": "code",
   "execution_count": 47,
   "metadata": {},
   "outputs": [
    {
     "name": "stdout",
     "output_type": "stream",
     "text": [
      "['379', '112', '244', '267', '218', '369', '470', '495', '486', '445', '435', '12', '494', '63', '272', '34', '89', '300', '285', '239', '52', '77', '51', '116', '79', '124', '207', '269', '167', '129', '26', '432', '99', '70', '15', '106', '94', '140', '436', '174', '219', '17', '194', '129', '129', '150', '37', '287', '176', '219', '16', '352', '88', '343', '66', '379', '397', '198', '342', '367', '95', '133', '194', '127', '57', '75', '449', '466', '125', '222', '313', '5', '14', '348', '322', '451', '391', '26', '129', '467', '351', '484', '336', '322', '367', '191', '316', '441', '48', '261', '457', '301', '256', '50', '496', '112', '357', '50', '254', '342', '295', '356', '418', '289', '124', '273', '467', '415', '258', '108', '1', '432', '127', '419', '183', '459', '128', '217', '291', '409', '333', '94', '140', '107', '348', '498', '387', '326', '79', '53', '496', '266', '398', '39', '271', '423', '242', '220', '110', '38', '107', '45', '221', '365', '118', '90', '427', '153', '251', '445', '453', '211', '286', '169', '51', '86', '404', '79', '374', '88', '349', '464', '417', '258', '467', '300', '262', '85', '218', '428', '308', '244', '190', '207', '118', '252', '460', '221', '214', '82', '40', '52', '370', '420', '34', '319', '170', '418', '281', '447', '55', '415', '213', '368', '66', '315', '313', '43', '112', '53']\n"
     ]
    }
   ],
   "source": [
    "import random as rd\n",
    "\n",
    "L = []\n",
    "\n",
    "n = int(input(\"un nombre pair\"))\n",
    "\n",
    "fic = open(\"notes\", \"w\")\n",
    "for i in range(n):\n",
    "    x = rd.randint(1, 500)\n",
    "    y = rd.randint(1, 500)\n",
    "    fic.write(str(x) + \" \" + str(y) + \"\\n\")\n",
    "fic.close()\n",
    "\n",
    "fic = open(\"notes\", \"r\")\n",
    "while True:\n",
    "    ligne = fic.readline()\n",
    "    if ligne == \"\":\n",
    "        break\n",
    "fic.close()\n",
    "\n",
    "\n",
    "\n",
    "fic=open(\"notes\",\"r\")\n",
    "for i in range(n) :\n",
    "    line = fic.readline()\n",
    "    val = line.split()\n",
    "    L  += [val[0], val[1]]\n",
    "print(L)\n",
    "fic.close()\n",
    "\n",
    "\n",
    "\n",
    "\n"
   ]
  },
  {
   "cell_type": "markdown",
   "metadata": {},
   "source": [
    "test avec les coordonnées\n",
    "\n",
    "(création des point sur le canvas)"
   ]
  },
  {
   "cell_type": "code",
   "execution_count": 48,
   "metadata": {},
   "outputs": [],
   "source": [
    "import tkinter as tk\n",
    "\n",
    "HEIGHT = 500\n",
    "WIDTH = 500\n",
    "\n",
    "racine = tk.Tk()\n",
    "canvas = tk.Canvas(racine, height=HEIGHT, width=WIDTH)\n",
    "canvas.grid()\n",
    "\n",
    "for i in range(5):\n",
    "    canvas.create_line((0,i*100),(WIDTH,i*100), fill=\"pink\", width=3)\n",
    "    canvas.create_line((i*100, 0),(i*100, HEIGHT), fill=\"pink\", width=3)\n",
    "\n",
    "canvas.create_line((0,0),(0,HEIGHT), fill= \"blue2\", width=10)\n",
    "canvas.create_line((0,HEIGHT),(WIDTH,HEIGHT), fill= \"blue2\", width=3)\n",
    "canvas.create_line((0,0),(10,10), fill= \"blue2\", width=3)\n",
    "canvas.create_line((WIDTH-10,HEIGHT-10),(WIDTH,HEIGHT), fill= \"blue2\", width=3)\n",
    "\n",
    "\n",
    "for i in range (1, n, 2) :\n",
    "    x = WIDTH - int(L[i])\n",
    "    y = HEIGHT - int(L[i+1])\n",
    "    # la création de variable x et y est nécessaire pour avoir un plan dans le bon sens avec des points au bon endroits\n",
    "    canvas.create_oval(x + 1, y + 1, x - 1, y - 1, fill=\"red\")\n",
    "\n",
    "\n",
    "racine.mainloop()"
   ]
  }
 ],
 "metadata": {
  "interpreter": {
   "hash": "1dd6737639af4bf8956431f186ef72665a0861306c1bb5f3c1fab86cc2ebb376"
  },
  "kernelspec": {
   "display_name": "Python 3.9.7 ('l1-python')",
   "language": "python",
   "name": "python3"
  },
  "language_info": {
   "codemirror_mode": {
    "name": "ipython",
    "version": 3
   },
   "file_extension": ".py",
   "mimetype": "text/x-python",
   "name": "python",
   "nbconvert_exporter": "python",
   "pygments_lexer": "ipython3",
   "version": "3.9.7"
  },
  "orig_nbformat": 4
 },
 "nbformat": 4,
 "nbformat_minor": 2
}
