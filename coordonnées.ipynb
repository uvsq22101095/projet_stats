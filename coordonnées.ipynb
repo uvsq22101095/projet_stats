{
 "cells": [
  {
   "cell_type": "code",
   "execution_count": 39,
   "metadata": {},
   "outputs": [
    {
     "ename": "NameError",
     "evalue": "name 'hola' is not defined",
     "output_type": "error",
     "traceback": [
      "\u001b[1;31m---------------------------------------------------------------------------\u001b[0m",
      "\u001b[1;31mNameError\u001b[0m                                 Traceback (most recent call last)",
      "\u001b[1;32m~\\AppData\\Local\\Temp/ipykernel_19372/3297960001.py\u001b[0m in \u001b[0;36m<module>\u001b[1;34m\u001b[0m\n\u001b[1;32m----> 1\u001b[1;33m \u001b[0mhola\u001b[0m\u001b[1;33m\u001b[0m\u001b[1;33m\u001b[0m\u001b[0m\n\u001b[0m",
      "\u001b[1;31mNameError\u001b[0m: name 'hola' is not defined"
     ]
    }
   ],
   "source": [
    "hola"
   ]
  },
  {
   "cell_type": "markdown",
   "metadata": {},
   "source": [
    "création des coordonnées pour chaques point \n",
    "\n",
    "    +\n",
    "\n",
    "création d'un fichier texte pour noter toutes les coordonnées"
   ]
  },
  {
   "cell_type": "code",
   "execution_count": 40,
   "metadata": {},
   "outputs": [
    {
     "name": "stdout",
     "output_type": "stream",
     "text": [
      "['256', '357', '70', '87', '19', '395', '188', '367', '396', '401', '451', '392', '110', '59', '484', '102', '6', '74', '53', '96', '252', '69', '196', '398', '71', '136', '304', '181', '359', '102', '7', '170', '374', '32', '67', '376', '364', '376', '250', '119', '477', '38', '201', '110', '383', '380', '29', '64', '344', '471', '249', '389', '465', '63', '106', '357', '201', '274', '271', '199', '240', '78', '132', '350', '194', '223', '116', '254', '463', '368', '295', '88', '257', '370', '142', '58', '91', '11', '283', '389', '218', '121', '108', '196', '77', '27', '219', '464', '25', '284', '93', '176', '448', '331', '294', '256', '286', '61', '16', '272', '438', '303', '187', '184', '252', '268', '276', '308', '153', '317', '346', '42', '168', '86', '408', '133', '257', '111', '237', '455', '467', '247', '408', '383', '471', '17', '115', '437', '277', '225', '486', '378', '133', '156', '451', '221', '132', '383', '90', '157', '190', '229', '103', '263', '289', '336', '399', '46', '35', '348', '198', '483', '90', '140', '151', '90', '429', '201', '87', '471', '367', '360', '86', '418', '49', '211', '429', '28', '487', '394', '477', '138', '149', '56', '23', '133', '172', '244', '53', '334', '318', '272', '170', '162', '139', '12', '91', '401', '246', '305', '249', '240', '348', '427', '146', '55', '207', '140', '114', '249']\n"
     ]
    }
   ],
   "source": [
    "import random as rd\n",
    "\n",
    "L = []\n",
    "\n",
    "\n",
    "fic = open(\"notes\", \"w\")\n",
    "for i in range(100):\n",
    "    x = rd.randint(1, 500)\n",
    "    y = rd.randint(1, 500)\n",
    "    fic.write(str(x) + \" \" + str(y) + \"\\n\")\n",
    "fic.close()\n",
    "\n",
    "fic = open(\"notes\", \"r\")\n",
    "while True:\n",
    "    ligne = fic.readline()\n",
    "    if ligne == \"\":\n",
    "        break\n",
    "fic.close()\n",
    "\n",
    "\n",
    "\n",
    "fic=open(\"notes\",\"r\")\n",
    "for i in range(100) :\n",
    "    line = fic.readline()\n",
    "    val = line.split()\n",
    "    L  += [val[0], val[1]]\n",
    "print(L)\n",
    "fic.close()\n",
    "\n",
    "\n",
    "\n",
    "\n"
   ]
  },
  {
   "cell_type": "markdown",
   "metadata": {},
   "source": [
    "test avec les coordonnées\n",
    "\n",
    "(création des point sur le canvas)"
   ]
  },
  {
   "cell_type": "code",
   "execution_count": 46,
   "metadata": {},
   "outputs": [],
   "source": [
    "import tkinter as tk\n",
    "\n",
    "HEIGHT = 500\n",
    "WIDTH = 500\n",
    "\n",
    "racine = tk.Tk()\n",
    "canvas = tk.Canvas(racine, height=HEIGHT, width=WIDTH)\n",
    "canvas.grid()\n",
    "\n",
    "for i in range(5):\n",
    "    canvas.create_line((0,i*100),(WIDTH,i*100), fill=\"pink\", width=3)\n",
    "    canvas.create_line((i*100, 0),(i*100, HEIGHT), fill=\"pink\", width=3)\n",
    "\n",
    "canvas.create_line((0,0),(0,HEIGHT), fill= \"blue2\", width=10)\n",
    "canvas.create_line((0,HEIGHT),(WIDTH,HEIGHT), fill= \"blue2\", width=3)\n",
    "canvas.create_line((0,0),(10,10), fill= \"blue2\", width=3)\n",
    "canvas.create_line((WIDTH-10,HEIGHT-10),(WIDTH,HEIGHT), fill= \"blue2\", width=3)\n",
    "\n",
    "\n",
    "for i in range (1, 100, 2) :\n",
    "    x = WIDTH - int(L[i])\n",
    "    y = HEIGHT - int(L[i+1])\n",
    "    # la création de variable x et y est nécessaire pour avoir un plan dans le bon sens avec des points au bon endroits\n",
    "    canvas.create_oval(x + 1, y + 1, x - 1, y - 1, fill=\"red\")\n",
    "\n",
    "\n",
    "racine.mainloop()"
   ]
  }
 ],
 "metadata": {
  "interpreter": {
   "hash": "1dd6737639af4bf8956431f186ef72665a0861306c1bb5f3c1fab86cc2ebb376"
  },
  "kernelspec": {
   "display_name": "Python 3.9.7 ('l1-python')",
   "language": "python",
   "name": "python3"
  },
  "language_info": {
   "codemirror_mode": {
    "name": "ipython",
    "version": 3
   },
   "file_extension": ".py",
   "mimetype": "text/x-python",
   "name": "python",
   "nbconvert_exporter": "python",
   "pygments_lexer": "ipython3",
   "version": "3.9.7"
  },
  "orig_nbformat": 4
 },
 "nbformat": 4,
 "nbformat_minor": 2
}
