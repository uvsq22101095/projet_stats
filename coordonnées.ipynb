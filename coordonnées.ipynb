{
 "cells": [
  {
   "cell_type": "markdown",
   "metadata": {},
   "source": [
    "création des coordonnées pour chaques point \n",
    "\n",
    "    +\n",
    "\n",
    "création d'un fichier texte pour noter toutes les coordonnées"
   ]
  },
  {
   "cell_type": "code",
   "execution_count": 2,
   "metadata": {},
   "outputs": [
    {
     "name": "stdout",
     "output_type": "stream",
     "text": [
      "['79', '340', '246', '145', '333', '364', '319', '350', '404', '367', '355', '82', '456', '27', '325', '159', '422', '426', '210', '42', '59', '284', '236', '14', '75', '499', '20', '39', '438', '72', '346', '459', '26', '27', '270', '401', '15', '342', '343', '149', '485', '364', '36', '441', '78', '158', '329', '360', '205', '269', '119', '83', '261', '299', '25', '389', '466', '396', '387', '144', '247', '476', '440', '117', '279', '325', '307', '55', '170', '86', '385', '269', '204', '357', '285', '5', '230', '364', '157', '148', '283', '287', '445', '309', '328', '294', '219', '27', '436', '36', '152', '345', '114', '471', '201', '67', '82', '318', '253', '103', '16', '159', '288', '419', '321', '178', '187', '158', '344', '322', '265', '285', '49', '99', '64', '390', '203', '157', '434', '213', '92', '441', '379', '298', '2', '426', '194', '30', '305', '443', '314', '153', '390', '179', '164', '479', '166', '100', '433', '322', '388', '253', '483', '367', '374', '236', '242', '5', '196', '3', '480', '103', '326', '497', '112', '190', '161', '261', '148', '399', '129', '203', '291', '460', '475', '466', '457', '212', '90', '116', '297', '36', '344', '152', '283', '470', '89', '72', '179', '387', '143', '315', '489', '181', '496', '410', '316', '109', '380', '212', '123', '354', '298', '139', '359', '320', '166', '244', '213', '34']\n"
     ]
    }
   ],
   "source": [
    "import random as rd\n",
    "\n",
    "L = []\n",
    "\n",
    "n = int(input(\"un nombre pair\"))\n",
    "\n",
    "fic = open(\"notes\", \"w\")\n",
    "for i in range(n):\n",
    "    x = rd.randint(1, 500)\n",
    "    y = rd.randint(1, 500)\n",
    "    fic.write(str(x) + \" \" + str(y) + \"\\n\")\n",
    "fic.close()\n",
    "\n",
    "fic = open(\"notes\", \"r\")\n",
    "while True:\n",
    "    ligne = fic.readline()\n",
    "    if ligne == \"\":\n",
    "        break\n",
    "fic.close()\n",
    "\n",
    "\n",
    "\n",
    "fic=open(\"notes\",\"r\")\n",
    "for i in range(n) :\n",
    "    line = fic.readline()\n",
    "    val = line.split()\n",
    "    L  += [val[0], val[1]]\n",
    "print(L)\n",
    "fic.close()\n",
    "\n",
    "\n",
    "\n",
    "\n"
   ]
  },
  {
   "cell_type": "markdown",
   "metadata": {},
   "source": [
    "test avec les coordonnées\n",
    "\n",
    "(création des point sur le canvas)"
   ]
  },
  {
   "cell_type": "code",
   "execution_count": 7,
   "metadata": {},
   "outputs": [
    {
     "name": "stderr",
     "output_type": "stream",
     "text": [
      "Exception in Tkinter callback\n",
      "Traceback (most recent call last):\n",
      "  File \"C:\\Users\\Johan\\miniconda3\\envs\\l1-python\\lib\\tkinter\\__init__.py\", line 1892, in __call__\n",
      "    return self.func(*args)\n",
      "TypeError: POINT_MOYEN() missing 1 required positional argument: 'L'\n"
     ]
    }
   ],
   "source": [
    "import tkinter as tk\n",
    "\n",
    "HEIGHT = 500\n",
    "WIDTH = 500\n",
    "\n",
    "racine = tk.Tk()\n",
    "canvas = tk.Canvas(racine, height=HEIGHT, width=WIDTH)\n",
    "canvas.grid(row = 2, column = 1)\n",
    "\n",
    "for i in range(5):\n",
    "    canvas.create_line((0,i*100),(WIDTH,i*100), fill=\"pink\", width=3)\n",
    "    canvas.create_line((i*100, 0),(i*100, HEIGHT), fill=\"pink\", width=3)\n",
    "\n",
    "canvas.create_line((0,0),(0,HEIGHT), fill= \"blue2\", width=10)\n",
    "canvas.create_line((0,HEIGHT),(WIDTH,HEIGHT), fill= \"blue2\", width=3)\n",
    "canvas.create_line((0,0),(10,10), fill= \"blue2\", width=3)\n",
    "canvas.create_line((WIDTH-10,HEIGHT-10),(WIDTH,HEIGHT), fill= \"blue2\", width=3)\n",
    "\n",
    "\n",
    "for i in range (1, n, 2) :\n",
    "    x = WIDTH - int(L[i])\n",
    "    y = HEIGHT - int(L[i+1])\n",
    "    # la création de variable x et y est nécessaire pour avoir un plan dans le bon sens avec des points au bon endroits\n",
    "    canvas.create_oval(x + 1, y + 1, x - 1, y - 1, fill=\"red\")\n",
    "\n",
    "def POINT_MOYEN(L) :\n",
    "    for i in range(1, n, 2) :\n",
    "        X_moyen += L[i]\n",
    "        Y_moyen += L[i+1]\n",
    "    X = X_moyen / n\n",
    "    Y = Y_moyen / n \n",
    "    canvas.create_oval(X + 5, Y + 5, X - 5, Y - 5, fill=\"deep pink\")\n",
    "\n",
    "bouton_point_moyen = tk.Button(racine, text = \"point moyen\", command = POINT_MOYEN)\n",
    "\n",
    "bouton_point_moyen.grid(row=1,column=1)\n",
    "\n",
    "racine.mainloop()"
   ]
  },
  {
   "cell_type": "markdown",
   "metadata": {},
   "source": [
    "test pour les courbes"
   ]
  },
  {
   "cell_type": "code",
   "execution_count": 4,
   "metadata": {},
   "outputs": [],
   "source": [
    "def POINT_MOYEN(L) :\n",
    "    for i in range(1, n, 2) :\n",
    "        X_moyen += L[i]\n",
    "        Y_moyen += L[i+1]\n",
    "    X = X_moyen / n\n",
    "    Y = Y_moyen / n \n",
    "    canvas.create_oval(X + 5, Y + 5, X - 5, Y - 5, fill=\"deep pink\")\n"
   ]
  },
  {
   "cell_type": "markdown",
   "metadata": {},
   "source": [
    "super test"
   ]
  },
  {
   "cell_type": "code",
   "execution_count": 9,
   "metadata": {},
   "outputs": [
    {
     "name": "stdout",
     "output_type": "stream",
     "text": [
      "['401', '196', '353', '415', '139', '367', '276', '245', '312', '14', '254', '460', '225', '67', '420', '178', '495', '304', '35', '468', '34', '171', '440', '147', '303', '216', '397', '93', '478', '359', '246', '10', '160', '386', '84', '141', '245', '129', '479', '416', '51', '92', '6', '493', '321', '229', '231', '50', '499', '158', '488', '423', '327', '91', '15', '66', '472', '34', '23', '198', '313', '120', '221', '48', '336', '152', '494', '218', '117', '285', '487', '90', '219', '251', '113', '281', '365', '389', '367', '382', '352', '471', '489', '437', '328', '217', '60', '485', '151', '273', '37', '32', '194', '63', '195', '97', '367', '313', '425', '416', '433', '37', '300', '154', '464', '88', '283', '199', '41', '121', '226', '323', '28', '431', '295', '202', '60', '294', '52', '159', '136', '48', '409', '393', '471', '43', '164', '267', '435', '394', '177', '24', '147', '416', '122', '83', '322', '237', '183', '269', '129', '27', '455', '196', '463', '333', '240', '247', '167', '483', '305', '292', '154', '405', '232', '139', '307', '499', '471', '336', '25', '358', '205', '186', '253', '238', '263', '115', '384', '434', '376', '128', '499', '375', '163', '205', '31', '447', '160', '396', '49', '106', '323', '475', '379', '101', '296', '190', '265', '108', '390', '412', '23', '365', '433', '40', '148', '493', '458', '133']\n"
     ]
    },
    {
     "ename": "UnboundLocalError",
     "evalue": "local variable 'X_moyen' referenced before assignment",
     "output_type": "error",
     "traceback": [
      "\u001b[1;31m---------------------------------------------------------------------------\u001b[0m",
      "\u001b[1;31mUnboundLocalError\u001b[0m                         Traceback (most recent call last)",
      "\u001b[1;32m~\\AppData\\Local\\Temp/ipykernel_17308/2105606035.py\u001b[0m in \u001b[0;36m<module>\u001b[1;34m\u001b[0m\n\u001b[0;32m     64\u001b[0m     \u001b[0mcanvas\u001b[0m\u001b[1;33m.\u001b[0m\u001b[0mcreate_oval\u001b[0m\u001b[1;33m(\u001b[0m\u001b[0mX\u001b[0m \u001b[1;33m+\u001b[0m \u001b[1;36m5\u001b[0m\u001b[1;33m,\u001b[0m \u001b[0mY\u001b[0m \u001b[1;33m+\u001b[0m \u001b[1;36m5\u001b[0m\u001b[1;33m,\u001b[0m \u001b[0mX\u001b[0m \u001b[1;33m-\u001b[0m \u001b[1;36m5\u001b[0m\u001b[1;33m,\u001b[0m \u001b[0mY\u001b[0m \u001b[1;33m-\u001b[0m \u001b[1;36m5\u001b[0m\u001b[1;33m,\u001b[0m \u001b[0mfill\u001b[0m\u001b[1;33m=\u001b[0m\u001b[1;34m\"deep pink\"\u001b[0m\u001b[1;33m)\u001b[0m\u001b[1;33m\u001b[0m\u001b[1;33m\u001b[0m\u001b[0m\n\u001b[0;32m     65\u001b[0m \u001b[1;33m\u001b[0m\u001b[0m\n\u001b[1;32m---> 66\u001b[1;33m \u001b[0mbouton_point_moyen\u001b[0m \u001b[1;33m=\u001b[0m \u001b[0mtk\u001b[0m\u001b[1;33m.\u001b[0m\u001b[0mButton\u001b[0m\u001b[1;33m(\u001b[0m\u001b[0mracine\u001b[0m\u001b[1;33m,\u001b[0m \u001b[0mtext\u001b[0m \u001b[1;33m=\u001b[0m \u001b[1;34m\"point moyen\"\u001b[0m\u001b[1;33m,\u001b[0m \u001b[0mcommand\u001b[0m \u001b[1;33m=\u001b[0m \u001b[0mPOINT_MOYEN\u001b[0m\u001b[1;33m(\u001b[0m\u001b[0mL\u001b[0m\u001b[1;33m)\u001b[0m\u001b[1;33m)\u001b[0m\u001b[1;33m\u001b[0m\u001b[1;33m\u001b[0m\u001b[0m\n\u001b[0m\u001b[0;32m     67\u001b[0m \u001b[1;33m\u001b[0m\u001b[0m\n\u001b[0;32m     68\u001b[0m \u001b[0mbouton_point_moyen\u001b[0m\u001b[1;33m.\u001b[0m\u001b[0mgrid\u001b[0m\u001b[1;33m(\u001b[0m\u001b[0mrow\u001b[0m\u001b[1;33m=\u001b[0m\u001b[1;36m1\u001b[0m\u001b[1;33m,\u001b[0m\u001b[0mcolumn\u001b[0m\u001b[1;33m=\u001b[0m\u001b[1;36m1\u001b[0m\u001b[1;33m)\u001b[0m\u001b[1;33m\u001b[0m\u001b[1;33m\u001b[0m\u001b[0m\n",
      "\u001b[1;32m~\\AppData\\Local\\Temp/ipykernel_17308/2105606035.py\u001b[0m in \u001b[0;36mPOINT_MOYEN\u001b[1;34m(L)\u001b[0m\n\u001b[0;32m     58\u001b[0m \u001b[1;32mdef\u001b[0m \u001b[0mPOINT_MOYEN\u001b[0m\u001b[1;33m(\u001b[0m\u001b[0mL\u001b[0m\u001b[1;33m)\u001b[0m \u001b[1;33m:\u001b[0m\u001b[1;33m\u001b[0m\u001b[1;33m\u001b[0m\u001b[0m\n\u001b[0;32m     59\u001b[0m     \u001b[1;32mfor\u001b[0m \u001b[0mi\u001b[0m \u001b[1;32min\u001b[0m \u001b[0mrange\u001b[0m\u001b[1;33m(\u001b[0m\u001b[1;36m1\u001b[0m\u001b[1;33m,\u001b[0m \u001b[0mn\u001b[0m\u001b[1;33m,\u001b[0m \u001b[1;36m2\u001b[0m\u001b[1;33m)\u001b[0m \u001b[1;33m:\u001b[0m\u001b[1;33m\u001b[0m\u001b[1;33m\u001b[0m\u001b[0m\n\u001b[1;32m---> 60\u001b[1;33m         \u001b[0mX_moyen\u001b[0m \u001b[1;33m+=\u001b[0m \u001b[0mL\u001b[0m\u001b[1;33m[\u001b[0m\u001b[0mi\u001b[0m\u001b[1;33m]\u001b[0m\u001b[1;33m\u001b[0m\u001b[1;33m\u001b[0m\u001b[0m\n\u001b[0m\u001b[0;32m     61\u001b[0m         \u001b[0mY_moyen\u001b[0m \u001b[1;33m+=\u001b[0m \u001b[0mL\u001b[0m\u001b[1;33m[\u001b[0m\u001b[0mi\u001b[0m\u001b[1;33m+\u001b[0m\u001b[1;36m1\u001b[0m\u001b[1;33m]\u001b[0m\u001b[1;33m\u001b[0m\u001b[1;33m\u001b[0m\u001b[0m\n\u001b[0;32m     62\u001b[0m     \u001b[0mX\u001b[0m \u001b[1;33m=\u001b[0m \u001b[0mX_moyen\u001b[0m \u001b[1;33m/\u001b[0m \u001b[0mn\u001b[0m\u001b[1;33m\u001b[0m\u001b[1;33m\u001b[0m\u001b[0m\n",
      "\u001b[1;31mUnboundLocalError\u001b[0m: local variable 'X_moyen' referenced before assignment"
     ]
    }
   ],
   "source": [
    "import random as rd\n",
    "\n",
    "import tkinter as tk\n",
    "\n",
    "HEIGHT = 500\n",
    "WIDTH = 500\n",
    "\n",
    "racine = tk.Tk()\n",
    "canvas = tk.Canvas(racine, height=HEIGHT, width=WIDTH)\n",
    "canvas.grid(row = 2, column = 1)\n",
    "\n",
    "L = []\n",
    "\n",
    "n = int(input(\"un nombre pair\"))\n",
    "\n",
    "fic = open(\"notes\", \"w\")\n",
    "for i in range(n):\n",
    "    x = rd.randint(1, 500)\n",
    "    y = rd.randint(1, 500)\n",
    "    fic.write(str(x) + \" \" + str(y) + \"\\n\")\n",
    "fic.close()\n",
    "\n",
    "fic = open(\"notes\", \"r\")\n",
    "while True:\n",
    "    ligne = fic.readline()\n",
    "    if ligne == \"\":\n",
    "        break\n",
    "fic.close()\n",
    "\n",
    "\n",
    "\n",
    "fic=open(\"notes\",\"r\")\n",
    "for i in range(n) :\n",
    "    line = fic.readline()\n",
    "    val = line.split()\n",
    "    L  += [val[0], val[1]]\n",
    "print(L)\n",
    "fic.close()\n",
    "\n",
    "\n",
    "\n",
    "for i in range(5):\n",
    "    canvas.create_line((0,i*100),(WIDTH,i*100), fill=\"pink\", width=3)\n",
    "    canvas.create_line((i*100, 0),(i*100, HEIGHT), fill=\"pink\", width=3)\n",
    "\n",
    "canvas.create_line((0,0),(0,HEIGHT), fill= \"blue2\", width=10)\n",
    "canvas.create_line((0,HEIGHT),(WIDTH,HEIGHT), fill= \"blue2\", width=3)\n",
    "canvas.create_line((0,0),(10,10), fill= \"blue2\", width=3)\n",
    "canvas.create_line((WIDTH-10,HEIGHT-10),(WIDTH,HEIGHT), fill= \"blue2\", width=3)\n",
    "\n",
    "\n",
    "for i in range (1, n, 2) :\n",
    "    x = WIDTH - int(L[i])\n",
    "    y = HEIGHT - int(L[i+1])\n",
    "    # la création de variable x et y est nécessaire pour avoir un plan dans le bon sens avec des points au bon endroits\n",
    "    canvas.create_oval(x + 1, y + 1, x - 1, y - 1, fill=\"red\")\n",
    "\n",
    "def POINT_MOYEN(L) :\n",
    "    for i in range(1, n, 2) :\n",
    "        X_moyen += L[i]\n",
    "        Y_moyen += L[i+1]\n",
    "    X = X_moyen / n\n",
    "    Y = Y_moyen / n \n",
    "    canvas.create_oval(X + 5, Y + 5, X - 5, Y - 5, fill=\"deep pink\")\n",
    "\n",
    "bouton_point_moyen = tk.Button(racine, text = \"point moyen\", command = POINT_MOYEN(L))\n",
    "\n",
    "bouton_point_moyen.grid(row=1,column=1)\n",
    "\n",
    "racine.mainloop()\n"
   ]
  }
 ],
 "metadata": {
  "interpreter": {
   "hash": "1dd6737639af4bf8956431f186ef72665a0861306c1bb5f3c1fab86cc2ebb376"
  },
  "kernelspec": {
   "display_name": "Python 3.9.7 ('l1-python')",
   "language": "python",
   "name": "python3"
  },
  "language_info": {
   "codemirror_mode": {
    "name": "ipython",
    "version": 3
   },
   "file_extension": ".py",
   "mimetype": "text/x-python",
   "name": "python",
   "nbconvert_exporter": "python",
   "pygments_lexer": "ipython3",
   "version": "3.9.7"
  },
  "orig_nbformat": 4
 },
 "nbformat": 4,
 "nbformat_minor": 2
}
