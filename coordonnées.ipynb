{
 "cells": [
  {
   "cell_type": "code",
   "execution_count": 16,
   "metadata": {},
   "outputs": [
    {
     "ename": "NameError",
     "evalue": "name 'hola' is not defined",
     "output_type": "error",
     "traceback": [
      "\u001b[1;31m---------------------------------------------------------------------------\u001b[0m",
      "\u001b[1;31mNameError\u001b[0m                                 Traceback (most recent call last)",
      "\u001b[1;32m~\\AppData\\Local\\Temp/ipykernel_19372/3297960001.py\u001b[0m in \u001b[0;36m<module>\u001b[1;34m\u001b[0m\n\u001b[1;32m----> 1\u001b[1;33m \u001b[0mhola\u001b[0m\u001b[1;33m\u001b[0m\u001b[1;33m\u001b[0m\u001b[0m\n\u001b[0m",
      "\u001b[1;31mNameError\u001b[0m: name 'hola' is not defined"
     ]
    }
   ],
   "source": [
    "hola"
   ]
  },
  {
   "cell_type": "markdown",
   "metadata": {},
   "source": [
    "création des coordonnées pour chaques point \n",
    "\n",
    "    +\n",
    "\n",
    "création d'un fichier texte pour noter toutes les coordonnées"
   ]
  },
  {
   "cell_type": "code",
   "execution_count": 18,
   "metadata": {},
   "outputs": [
    {
     "name": "stdout",
     "output_type": "stream",
     "text": [
      "['352', '96', '127', '139', '107', '179', '431', '480', '484', '267', '321', '248', '233', '111', '177', '257', '270', '405', '90', '330', '115', '94', '431', '22', '304', '132', '420', '134', '406', '338', '245', '149', '421', '482', '327', '362', '218', '236', '235', '472', '290', '458', '451', '120', '260', '183', '359', '466', '125', '49', '148', '5', '37', '132', '397', '397', '15', '18', '444', '139', '126', '115', '465', '39', '469', '309', '428', '320', '253', '50', '388', '394', '310', '394', '359', '169', '406', '78', '59', '358', '397', '290', '372', '196', '96', '281', '49', '179', '173', '477', '136', '270', '22', '432', '375', '28', '247', '343', '168', '168', '234', '342', '312', '57', '157', '486', '123', '260', '391', '64', '26', '239', '213', '357', '277', '137', '407', '443', '86', '75', '82', '318', '55', '76', '21', '280', '225', '108', '184', '222', '387', '212', '298', '460', '312', '388', '202', '29', '59', '171', '336', '211', '71', '356', '291', '91', '13', '125', '178', '403', '382', '353', '323', '248', '464', '70', '443', '483', '181', '483', '299', '389', '139', '203', '488', '109', '217', '97', '402', '59', '140', '80', '333', '37', '85', '23', '271', '215', '227', '273', '105', '184', '358', '417', '251', '150', '40', '262', '55', '39', '228', '363', '440', '220', '381', '118', '484', '269', '275', '93']\n"
     ]
    }
   ],
   "source": [
    "import random as rd\n",
    "\n",
    "L = []\n",
    "\n",
    "\n",
    "fic = open(\"notes\", \"w\")\n",
    "for i in range(100):\n",
    "    x = rd.randint(1, 500)\n",
    "    y = rd.randint(1, 500)\n",
    "    fic.write(str(x) + \" \" + str(y) + \"\\n\")\n",
    "fic.close()\n",
    "\n",
    "fic = open(\"notes\", \"r\")\n",
    "while True:\n",
    "    ligne = fic.readline()\n",
    "    if ligne == \"\":\n",
    "        break\n",
    "fic.close()\n",
    "\n",
    "\n",
    "\n",
    "fic=open(\"notes\",\"r\")\n",
    "for i in range(100) :\n",
    "    line = fic.readline()\n",
    "    val = line.split()\n",
    "    L  += [val[0], val[1]]\n",
    "print(L)\n",
    "fic.close()\n",
    "\n",
    "\n",
    "\n",
    "\n"
   ]
  },
  {
   "cell_type": "markdown",
   "metadata": {},
   "source": [
    "test avec les coordonnées\n",
    "\n",
    "(création des point sur le canvas)"
   ]
  },
  {
   "cell_type": "code",
   "execution_count": 20,
   "metadata": {},
   "outputs": [],
   "source": [
    "import tkinter as tk\n",
    "\n",
    "HEIGHT = 500\n",
    "WIDTH = 500\n",
    "\n",
    "racine = tk.Tk()\n",
    "canvas = tk.Canvas(racine, height=HEIGHT, width=WIDTH)\n",
    "canvas.grid()\n",
    "\n",
    "canvas.create_line((0,0),(0,HEIGHT), fill= \"blue2\", width=10)\n",
    "canvas.create_line((0,HEIGHT),(WIDTH,HEIGHT), fill= \"blue2\", width=3)\n",
    "canvas.create_line((0,0),(10,10), fill= \"blue2\", width=3)\n",
    "canvas.create_line((WIDTH-10,HEIGHT-10),(WIDTH,HEIGHT), fill= \"blue2\", width=3)\n",
    "\n",
    "for i in range(5):\n",
    "    canvas.create_line((0,i*100),(500,i*100), fill=\"pink\", width=3)\n",
    "    canvas.create_line((i*100, 0),(i*100, 500), fill=\"pink\", width=3)\n",
    "\n",
    "for i in range (1, 100, 2) :\n",
    "    canvas.create_oval(int(L[i])+1, int(L[i+1])+1, int(L[i])-1, int(L[i+1])-1, fill=\"blue2\")\n",
    "\n",
    "\n",
    "racine.mainloop()"
   ]
  }
 ],
 "metadata": {
  "interpreter": {
   "hash": "1dd6737639af4bf8956431f186ef72665a0861306c1bb5f3c1fab86cc2ebb376"
  },
  "kernelspec": {
   "display_name": "Python 3.9.7 ('l1-python')",
   "language": "python",
   "name": "python3"
  },
  "language_info": {
   "codemirror_mode": {
    "name": "ipython",
    "version": 3
   },
   "file_extension": ".py",
   "mimetype": "text/x-python",
   "name": "python",
   "nbconvert_exporter": "python",
   "pygments_lexer": "ipython3",
   "version": "3.9.7"
  },
  "orig_nbformat": 4
 },
 "nbformat": 4,
 "nbformat_minor": 2
}
