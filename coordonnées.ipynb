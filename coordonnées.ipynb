{
 "cells": [
  {
   "cell_type": "markdown",
   "metadata": {},
   "source": [
    "création des coordonnées pour chaques point \n",
    "\n",
    "    +\n",
    "\n",
    "création d'un fichier texte pour noter toutes les coordonnées"
   ]
  },
  {
   "cell_type": "code",
   "execution_count": 4,
   "metadata": {},
   "outputs": [
    {
     "name": "stdout",
     "output_type": "stream",
     "text": [
      "['477', '129', '149', '54', '54', '305', '43', '432', '249', '331', '115', '451', '478', '317', '227', '14', '188', '45', '198', '484', '375', '204', '195', '413', '57', '136', '348', '349', '381', '380', '377', '57', '496', '344', '330', '64', '364', '178', '231', '415', '283', '312', '444', '283', '96', '41', '169', '198', '141', '46', '221', '173', '490', '272', '42', '118', '135', '390', '422', '26', '85', '480', '344', '500', '21', '42', '376', '118', '202', '498', '134', '416', '429', '266', '420', '327', '188', '27', '102', '210', '10', '488', '31', '483', '485', '139', '399', '453', '386', '113', '219', '111', '211', '374', '94', '44', '308', '340', '404', '281', '125', '224', '318', '486', '59', '417', '302', '362', '292', '315', '335', '100', '442', '401', '256', '7', '135', '294', '6', '442', '487', '455', '152', '65', '269', '489', '160', '224', '422', '458', '416', '322', '470', '38', '389', '161', '366', '28', '133', '239', '472', '79', '141', '382', '173', '302', '355', '189', '426', '440', '374', '50', '401', '361', '473', '136']\n"
     ]
    }
   ],
   "source": [
    "import random as rd\n",
    "\n",
    "L = []\n",
    "\n",
    "n = int(input(\"un nombre pair\"))\n",
    "\n",
    "fic = open(\"notes\", \"w\")\n",
    "for i in range(n):\n",
    "    x = rd.randint(1, 500)\n",
    "    y = rd.randint(1, 500)\n",
    "    fic.write(str(x) + \" \" + str(y) + \"\\n\")\n",
    "fic.close()\n",
    "\n",
    "fic = open(\"notes\", \"r\")\n",
    "while True:\n",
    "    ligne = fic.readline()\n",
    "    if ligne == \"\":\n",
    "        break\n",
    "fic.close()\n",
    "\n",
    "\n",
    "\n",
    "fic=open(\"notes\",\"r\")\n",
    "for i in range(n) :\n",
    "    line = fic.readline()\n",
    "    val = line.split()\n",
    "    L  += [val[0], val[1]]\n",
    "print(L)\n",
    "fic.close()\n",
    "\n",
    "\n",
    "\n",
    "\n"
   ]
  },
  {
   "cell_type": "markdown",
   "metadata": {},
   "source": [
    "test avec les coordonnées\n",
    "\n",
    "(création des point sur le canvas)"
   ]
  },
  {
   "cell_type": "code",
   "execution_count": 5,
   "metadata": {},
   "outputs": [
    {
     "name": "stderr",
     "output_type": "stream",
     "text": [
      "Exception in Tkinter callback\n",
      "Traceback (most recent call last):\n",
      "  File \"/Applications/miniconda3/envs/l1-python/lib/python3.9/tkinter/__init__.py\", line 1892, in __call__\n",
      "    return self.func(*args)\n",
      "TypeError: POINT_MOYEN() missing 1 required positional argument: 'L'\n",
      "Exception in Tkinter callback\n",
      "Traceback (most recent call last):\n",
      "  File \"/Applications/miniconda3/envs/l1-python/lib/python3.9/tkinter/__init__.py\", line 1892, in __call__\n",
      "    return self.func(*args)\n",
      "TypeError: POINT_MOYEN() missing 1 required positional argument: 'L'\n",
      "Exception in Tkinter callback\n",
      "Traceback (most recent call last):\n",
      "  File \"/Applications/miniconda3/envs/l1-python/lib/python3.9/tkinter/__init__.py\", line 1892, in __call__\n",
      "    return self.func(*args)\n",
      "TypeError: POINT_MOYEN() missing 1 required positional argument: 'L'\n"
     ]
    }
   ],
   "source": [
    "import tkinter as tk\n",
    "\n",
    "HEIGHT = 500\n",
    "WIDTH = 500\n",
    "\n",
    "racine = tk.Tk()\n",
    "canvas = tk.Canvas(racine, height=HEIGHT, width=WIDTH)\n",
    "canvas.grid(row = 2, column = 1)\n",
    "\n",
    "for i in range(5):\n",
    "    canvas.create_line((0,i*100),(WIDTH,i*100), fill=\"pink\", width=3)\n",
    "    canvas.create_line((i*100, 0),(i*100, HEIGHT), fill=\"pink\", width=3)\n",
    "\n",
    "canvas.create_line((0,0),(0,HEIGHT), fill= \"blue2\", width=10)\n",
    "canvas.create_line((0,HEIGHT),(WIDTH,HEIGHT), fill= \"blue2\", width=3)\n",
    "canvas.create_line((0,0),(10,10), fill= \"blue2\", width=3)\n",
    "canvas.create_line((WIDTH-10,HEIGHT-10),(WIDTH,HEIGHT), fill= \"blue2\", width=3)\n",
    "\n",
    "\n",
    "for i in range (1, n, 2) :\n",
    "    x = WIDTH - int(L[i])\n",
    "    y = HEIGHT - int(L[i+1])\n",
    "    # la création de variable x et y est nécessaire pour avoir un plan dans le bon sens avec des points au bon endroits\n",
    "    canvas.create_oval(x + 1, y + 1, x - 1, y - 1, fill=\"red\")\n",
    "\n",
    "def POINT_MOYEN(L) :\n",
    "    for i in range(1, n, 2) :\n",
    "        X_moyen += L[i]\n",
    "        Y_moyen += L[i+1]\n",
    "    X = X_moyen / n\n",
    "    Y = Y_moyen / n \n",
    "    canvas.create_oval(X + 5, Y + 5, X - 5, Y - 5, fill=\"deep pink\")\n",
    "\n",
    "bouton_point_moyen = tk.Button(racine, text = \"point moyen\", command = POINT_MOYEN)\n",
    "\n",
    "bouton_point_moyen.grid(row=1,column=1)\n",
    "\n",
    "racine.mainloop()"
   ]
  },
  {
   "cell_type": "markdown",
   "metadata": {},
   "source": [
    "test pour le point moyen"
   ]
  },
  {
   "cell_type": "code",
   "execution_count": 6,
   "metadata": {},
   "outputs": [],
   "source": [
    "def POINT_MOYEN(L) :\n",
    "    for i in range(1, n, 2) :\n",
    "        X_moyen += L[i]\n",
    "        Y_moyen += L[i+1]\n",
    "    X = X_moyen / n\n",
    "    Y = Y_moyen / n \n",
    "    canvas.create_oval(X + 5, Y + 5, X - 5, Y - 5, fill=\"deep pink\")\n"
   ]
  },
  {
   "cell_type": "markdown",
   "metadata": {},
   "source": [
    "super test"
   ]
  },
  {
   "cell_type": "code",
<<<<<<< HEAD
   "execution_count": 1,
=======
   "execution_count": 7,
>>>>>>> 58ea05cbe7ec0ab58d411e7c65a376de0b7fce03
   "metadata": {},
   "outputs": [
    {
     "name": "stdout",
     "output_type": "stream",
     "text": [
<<<<<<< HEAD
      "246.53944954128437 261.697247706422\n",
      "6.0748408321357985 100.20991483588395\n"
=======
      "270.28749999999997 252.9\n",
      "12.236345703124973 370.230125\n"
>>>>>>> 58ea05cbe7ec0ab58d411e7c65a376de0b7fce03
     ]
    }
   ],
   "source": [
    "import random as rd\n",
    "\n",
    "import tkinter as tk\n",
    "\n",
    "HEIGHT = 500\n",
    "WIDTH = 500\n",
    "\n",
    "racine = tk.Tk()\n",
    "canvas = tk.Canvas(racine, height=HEIGHT, width=WIDTH)\n",
    "canvas.grid(row = 2, column = 1)\n",
    "\n",
    "L = []\n",
    "X_moyen = 0\n",
    "Y_moyen = 0\n",
    "\n",
    "n = int(input(\" un nombre >= 1\"))\n",
    "\n",
    "#créer des nombre au hazards et les entre dans un fichier texte\n",
    "fic = open(\"notes\", \"w\")\n",
    "for i in range(n):\n",
    "    x = rd.randint(1, 500)\n",
    "    y = rd.randint(1, 500)\n",
    "    fic.write(str(x) + \" \" + str(y) + \"\\n\")\n",
    "fic.close()\n",
    "\n",
    "\n",
    "\n",
    "#transforme le fichier texte en liste de coordonées\n",
    "fic=open(\"notes\",\"r\")\n",
    "for i in range(n) :\n",
    "    line = fic.readline()\n",
    "    val = line.split()\n",
    "    L  += [val[0], val[1]]\n",
    "fic.close()\n",
    "\n",
    "\n",
    "#créer des axes pour que le canvas soit plus lisible\n",
    "for i in range(5):\n",
    "    canvas.create_line((0,i*100),(WIDTH,i*100), fill=\"pink\", width=3)\n",
    "    canvas.create_line((i*100, 0),(i*100, HEIGHT), fill=\"pink\", width=3)\n",
    "\n",
    "\n",
    "#créer l'abscice et l'ordonnée du canvas \n",
    "canvas.create_line((0,0),(0,HEIGHT), fill= \"blue2\", width=10)\n",
    "canvas.create_line((0,HEIGHT),(WIDTH,HEIGHT), fill= \"blue2\", width=3)\n",
    "canvas.create_line((0,0),(10,10), fill= \"blue2\", width=3)\n",
    "canvas.create_line((WIDTH-10,HEIGHT-10),(WIDTH,HEIGHT), fill= \"blue2\", width=3)\n",
    "\n",
    "#création des points sur le canvas\n",
    "for i in range (1, 2*n-2, 2) :\n",
    "    x = int(L[i])\n",
    "    y = int(L[i+1])\n",
    "    # le \"HEIGHT -\" est nécessaire pour avoir un plan dans le bon sens avec des points au bon endroits\n",
    "    canvas.create_oval(x + 1, HEIGHT - y + 1, x - 1, HEIGHT - y - 1, fill=\"red\")\n",
    "\n",
    "#création du point moyen sur le canvas\n",
    "for i in range(1, 2*n-2, 2) :\n",
    "     X_moyen += int(L[i]) / n\n",
    "     Y_moyen += int(L[i+1]) / n \n",
    "\n",
    "canvas.create_oval(X_moyen + 5, HEIGHT - Y_moyen + 5, X_moyen - 5, HEIGHT - Y_moyen - 5, fill=\"deep pink\")\n",
    "\n",
    "\n",
    "print(X_moyen, Y_moyen)\n",
    "\n",
    "#création de la variance X et Y\n",
    "for i in range (1, 2*n-2, 2) :\n",
    "    VarX = ((int(L[i])- X_moyen)**2)/ n\n",
    "    VarY = ((int(L[i + 1])- Y_moyen)**2)/ n\n",
    "print(VarX, VarY)\n",
    "\n",
    "racine.mainloop()\n"
   ]
  },
  {
   "cell_type": "markdown",
   "metadata": {},
   "source": [
    "MOYENNE: \n",
    "    pour X :   Xm= Xi/n\n",
    "    pour Y :   Ym= Yi/n\n",
    "\n",
    "\n",
    "VARIANCE:\n",
    "    pour X:   VaX=((Xi-Xm)^2)/n\n",
    "    pour Y:   VaY=((Yi-Ym)^2)/n\n",
    "\n",
    "COVARIANCE:\n",
    "    Cov=((Xi-Xm)(Yi-Ym))/n\n",
    "\n",
    "COEFFICIENT DE CORRELATION LINEAIRE:\n",
    "    Cor= Cov/racine(VaX x VaY)\n",
    "\n",
    "DROITE D'AJUSTTEMENT PAR LA METHODE DES MOINDRES CARRES:\n",
    "    y= ax + b  \n",
    "    avec a =  Cov/VaX\n",
    "    avec b= Ym - a x Xm"
   ]
  }
 ],
 "metadata": {
  "interpreter": {
   "hash": "1dd6737639af4bf8956431f186ef72665a0861306c1bb5f3c1fab86cc2ebb376"
  },
  "kernelspec": {
   "display_name": "Python 3.9.7 ('l1-python')",
   "language": "python",
   "name": "python3"
  },
  "language_info": {
   "codemirror_mode": {
    "name": "ipython",
    "version": 3
   },
   "file_extension": ".py",
   "mimetype": "text/x-python",
   "name": "python",
   "nbconvert_exporter": "python",
   "pygments_lexer": "ipython3",
   "version": "3.9.7"
  },
  "orig_nbformat": 4
 },
 "nbformat": 4,
 "nbformat_minor": 2
}
