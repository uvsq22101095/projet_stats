{
 "cells": [
  {
   "cell_type": "code",
   "execution_count": 2,
   "metadata": {},
   "outputs": [
    {
     "name": "stdout",
     "output_type": "stream",
     "text": [
      "246.72999999999993 257.34999999999997\n",
      "33.95392900000008 17.93522499999997\n",
      "-24.67734500000001\n"
     ]
    }
   ],
   "source": [
    "import random as rd\n",
    "\n",
    "import tkinter as tk\n",
    "\n",
    "HEIGHT = 500\n",
    "WIDTH = 500\n",
    "\n",
    "racine = tk.Tk()\n",
    "canvas = tk.Canvas(racine, height=HEIGHT, width=WIDTH)\n",
    "canvas.grid(row = 2, column = 1)\n",
    "\n",
    "L = []\n",
    "X_moyen = 0\n",
    "Y_moyen = 0\n",
    "\n",
    "n = int(input(\" un nombre >= 1\"))\n",
    "\n",
    "#créer des nombre au hazards et les entre dans un fichier texte\n",
    "fic = open(\"notes\", \"w\")\n",
    "for i in range(n):\n",
    "    x = rd.randint(1, 500)\n",
    "    y = rd.randint(1, 500)\n",
    "    fic.write(str(x) + \" \" + str(y) + \"\\n\")\n",
    "fic.close()\n",
    "\n",
    "\n",
    "\n",
    "#transforme le fichier texte en liste de coordonées\n",
    "fic=open(\"notes\",\"r\")\n",
    "for i in range(n) :\n",
    "    line = fic.readline()\n",
    "    val = line.split()\n",
    "    L  += [val[0], val[1]]\n",
    "fic.close()\n",
    "\n",
    "\n",
    "#créer l'abscice et l'ordonnée du canvas \n",
    "for i in range(5):\n",
    "    canvas.create_line((0,i*100),(WIDTH,i*100), fill=\"pink\", width=3)\n",
    "    canvas.create_line((i*100, 0),(i*100, HEIGHT), fill=\"pink\", width=3)\n",
    "\n",
    "#créer des axes pour que le canvas soit plus lisible\n",
    "canvas.create_line((0,0),(0,HEIGHT), fill= \"blue2\", width=10)\n",
    "canvas.create_line((0,HEIGHT),(WIDTH,HEIGHT), fill= \"blue2\", width=3)\n",
    "canvas.create_line((0,0),(10,10), fill= \"blue2\", width=3)\n",
    "canvas.create_line((WIDTH-10,HEIGHT-10),(WIDTH,HEIGHT), fill= \"blue2\", width=3)\n",
    "\n",
    "#création des points sur le canvas\n",
    "for i in range (1, 2*n-1, 2) :\n",
    "    x = int(L[i])\n",
    "    y = int(L[i+1])\n",
    "    # le \"HEIGHT -\" est nécessaire pour avoir un plan dans le bon sens avec des points au bon endroits\n",
    "    canvas.create_oval(x + 1, HEIGHT - y + 1, x - 1, HEIGHT - y - 1, fill=\"red\")\n",
    "\n",
    "#création du point moyen sur le canvas\n",
    "for i in range(1, 2*n-1, 2) :\n",
    "     X_moyen += int(L[i]) / n\n",
    "     Y_moyen += int(L[i+1]) / n \n",
    "\n",
    "canvas.create_oval(X_moyen + 5, HEIGHT - Y_moyen + 5, X_moyen - 5, HEIGHT - Y_moyen - 5, fill=\"deep pink\")\n",
    "\n",
    "\n",
    "print(X_moyen, Y_moyen)\n",
    "\n",
    "#création de la variance X et Y\n",
    "for i in range (1, 2*n-1, 2) :\n",
    "    VarX = ((int(L[i])- X_moyen)**2)/ n\n",
    "    VarY = ((int(L[i + 1])- Y_moyen)**2)/ n\n",
    "print(VarX, VarY)\n",
    "\n",
    "for i in range (1, 2*n-1, 2) :\n",
    "    Cov = ((int(L[i])- X_moyen)*(int(L[i + 1])- Y_moyen))/n\n",
    "print(Cov)\n",
    "\n",
    "racine.mainloop()\n"
   ]
  }
 ],
 "metadata": {
  "interpreter": {
   "hash": "1dd6737639af4bf8956431f186ef72665a0861306c1bb5f3c1fab86cc2ebb376"
  },
  "kernelspec": {
   "display_name": "Python 3.9.7 ('l1-python')",
   "language": "python",
   "name": "python3"
  },
  "language_info": {
   "codemirror_mode": {
    "name": "ipython",
    "version": 3
   },
   "file_extension": ".py",
   "mimetype": "text/x-python",
   "name": "python",
   "nbconvert_exporter": "python",
   "pygments_lexer": "ipython3",
   "version": "3.9.7"
  },
  "orig_nbformat": 4
 },
 "nbformat": 4,
 "nbformat_minor": 2
}
