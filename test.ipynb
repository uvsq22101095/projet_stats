{
 "cells": [
  {
   "cell_type": "code",
   "execution_count": null,
   "metadata": {},
   "outputs": [],
   "source": [
    "hola"
   ]
  },
  {
   "cell_type": "code",
   "execution_count": 23,
   "metadata": {},
   "outputs": [
    {
     "name": "stdout",
     "output_type": "stream",
     "text": [
      "39 72\n",
      "273 440\n",
      "334 291\n",
      "408 233\n",
      "457 218\n",
      "442 436\n",
      "202 281\n",
      "461 237\n",
      "90 307\n",
      "125 16\n"
     ]
    }
   ],
   "source": [
    "import random as rd\n",
    "\n",
    "\n",
    "fic = open(\"notes\", \"w\")\n",
    "for i in range(10):\n",
    "    x = rd.randint(1, 500)\n",
    "    y = rd.randint(1, 500)\n",
    "    fic.write(str(x) + \" \" + str(y) + \"\\n\")\n",
    "fic.close()\n",
    "\n",
    "fic = open(\"notes\", \"r\")\n",
    "while True:\n",
    "    ligne = fic.readline()\n",
    "    if ligne == \"\":\n",
    "        break\n",
    "fic.close()\n",
    "\n",
    "\n",
    "fic=open(\"notes\",\"r\")\n",
    "for i in range(10) :\n",
    "    line = fic.readline()\n",
    "    val = line.split()\n",
    "    print(val[0], val[1])\n",
    "fic.close()\n",
    "\n",
    "\n",
    "\n"
   ]
  }
 ],
 "metadata": {
  "interpreter": {
   "hash": "1dd6737639af4bf8956431f186ef72665a0861306c1bb5f3c1fab86cc2ebb376"
  },
  "kernelspec": {
   "display_name": "Python 3.9.7 ('l1-python')",
   "language": "python",
   "name": "python3"
  },
  "language_info": {
   "codemirror_mode": {
    "name": "ipython",
    "version": 3
   },
   "file_extension": ".py",
   "mimetype": "text/x-python",
   "name": "python",
   "nbconvert_exporter": "python",
   "pygments_lexer": "ipython3",
   "version": "3.9.7"
  },
  "orig_nbformat": 4
 },
 "nbformat": 4,
 "nbformat_minor": 2
}
