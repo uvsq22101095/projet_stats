{
 "cells": [
  {
   "cell_type": "code",
   "execution_count": null,
   "metadata": {},
   "outputs": [],
   "source": [
    "test"
   ]
  },
  {
   "cell_type": "code",
   "execution_count": 28,
   "metadata": {},
   "outputs": [
    {
     "name": "stdout",
     "output_type": "stream",
     "text": [
      "68, 83\n",
      "\n",
      "475, 445\n",
      "\n",
      "230, 121\n",
      "\n",
      "198, 118\n",
      "\n",
      "35, 313\n",
      "\n",
      "200, 200\n",
      "\n",
      "132, 367\n",
      "\n",
      "24, 139\n",
      "\n",
      "274, 403\n",
      "\n",
      "459, 263\n",
      "\n"
     ]
    }
   ],
   "source": [
    "import random as rd\n",
    "\n",
    "\n",
    "fic = open(\"notes\", \"w\")\n",
    "for i in range(10):\n",
    "    x = rd.randint(1, 500)\n",
    "    y = rd.randint(1, 500)\n",
    "    fic.write(str(x) + \", \" + str(y) + \"\\n\")\n",
    "fic.close()\n",
    "\n",
    "fic = open(\"notes\", \"r\")\n",
    "while True:\n",
    "    ligne = fic.readline()\n",
    "    if ligne == \"\":\n",
    "        break\n",
    "    print(ligne)\n",
    "\n",
    "\n",
    "fic.close()\n",
    "\n"
   ]
  },
  {
   "cell_type": "code",
   "execution_count": 21,
   "metadata": {},
   "outputs": [
    {
     "name": "stdout",
     "output_type": "stream",
     "text": [
      "['305', '98']\n",
      "\n",
      "['1', '102']\n",
      "\n",
      "['472', '67']\n",
      "\n",
      "['160', '470']\n",
      "\n",
      "['164', '305']\n",
      "\n",
      "['47', '414']\n",
      "\n",
      "['400', '457']\n",
      "\n",
      "['280', '233']\n",
      "\n",
      "['435', '116']\n",
      "\n",
      "['109', '278']\n",
      "\n"
     ]
    }
   ],
   "source": [
    "import random as rd\n",
    "\n",
    "\n",
    "fichier = open(\"nb\", \"w\")\n",
    "for i in range(10):\n",
    "    x = rd.randint(1, 500)\n",
    "    y = rd.randint(1, 500)\n",
    "    l = [str(x), str(y)]\n",
    "    fichier.write(str(l) + \"\\n\")\n",
    "fic.close()\n",
    "\n",
    "fichier = open(\"nb\" , \"r\")\n",
    "while True : \n",
    "    a = fichier.readline()\n",
    "    if a == \"\":\n",
    "        break\n",
    "    print(a)\n",
    "\n",
    "fichier.close()"
   ]
  }
 ],
 "metadata": {
  "interpreter": {
   "hash": "1dd6737639af4bf8956431f186ef72665a0861306c1bb5f3c1fab86cc2ebb376"
  },
  "kernelspec": {
   "display_name": "Python 3.9.7 ('l1-python')",
   "language": "python",
   "name": "python3"
  },
  "language_info": {
   "codemirror_mode": {
    "name": "ipython",
    "version": 3
   },
   "file_extension": ".py",
   "mimetype": "text/x-python",
   "name": "python",
   "nbconvert_exporter": "python",
   "pygments_lexer": "ipython3",
   "version": "3.9.7"
  },
  "orig_nbformat": 4
 },
 "nbformat": 4,
 "nbformat_minor": 2
}
