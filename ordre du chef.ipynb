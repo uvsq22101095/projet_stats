{
 "cells": [
  {
   "cell_type": "markdown",
   "metadata": {},
   "source": [
    "Johan s'occupe de la gestion des coordonnées de chaque points.\n"
   ]
  },
  {
   "cell_type": "markdown",
   "metadata": {},
   "source": [
    "Clara s'occupe de la gestion/création d'un canvas pour placer les points "
   ]
  },
  {
   "cell_type": "markdown",
   "metadata": {},
   "source": [
    "nathan peut verifier les liste"
   ]
  },
  {
   "cell_type": "markdown",
   "metadata": {},
   "source": []
  }
 ],
 "metadata": {
  "language_info": {
   "name": "python"
  },
  "orig_nbformat": 4
 },
 "nbformat": 4,
 "nbformat_minor": 2
}
