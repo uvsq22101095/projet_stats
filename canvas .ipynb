{
 "cells": [
  {
   "cell_type": "code",
   "execution_count": 36,
   "metadata": {},
   "outputs": [],
   "source": [
    "import tkinter as tk\n",
    "\n",
    "HEIGHT = 500\n",
    "WIDTH = 500\n",
    "\n",
    "racine = tk.Tk()\n",
    "canvas = tk.Canvas(racine, height=HEIGHT, width=WIDTH)\n",
    "canvas.grid()\n",
    "\n",
    "for i in range(5):\n",
    "    canvas.create_line((0,i*100),(WIDTH,i*100), fill=\"pink\", width=3)\n",
    "    canvas.create_line((i*100, 0),(i*100, HEIGHT), fill=\"pink\", width=3)\n",
    "canvas.create_line((0,0),(0,HEIGHT), fill= \"blue2\", width=10)\n",
    "canvas.create_line((0,HEIGHT),(WIDTH,HEIGHT), fill= \"blue2\", width=3)\n",
    "canvas.create_line((0,0),(10,10), fill= \"blue2\", width=3)\n",
    "canvas.create_line((WIDTH-10,HEIGHT-10),(WIDTH,HEIGHT), fill= \"blue2\", width=3)\n",
    "\n",
    "\n",
    "racine.mainloop()"
   ]
  },
  {
   "cell_type": "markdown",
   "metadata": {},
   "source": [
    "pour les coordonnées mettre (width, height)\n",
    "x=width\n",
    "y=height\n"
   ]
  }
 ],
 "metadata": {
  "interpreter": {
   "hash": "31f2aee4e71d21fbe5cf8b01ff0e069b9275f58929596ceb00d14d90e3e16cd6"
  },
  "kernelspec": {
   "display_name": "Python 3.8.9 64-bit",
   "language": "python",
   "name": "python3"
  },
  "language_info": {
   "codemirror_mode": {
    "name": "ipython",
    "version": 3
   },
   "file_extension": ".py",
   "mimetype": "text/x-python",
   "name": "python",
   "nbconvert_exporter": "python",
   "pygments_lexer": "ipython3",
   "version": "3.9.7"
  },
  "orig_nbformat": 4
 },
 "nbformat": 4,
 "nbformat_minor": 2
}
