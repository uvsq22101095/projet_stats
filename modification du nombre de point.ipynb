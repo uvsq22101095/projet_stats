{
 "cells": [
  {
   "cell_type": "code",
   "execution_count": 6,
   "metadata": {},
   "outputs": [],
   "source": [
    "import random as rd\n",
    "\n",
    "nb = 50\n",
    "\n",
    "fichier = open(\"coordonnees.txt\", \"w\")\n",
    "for i in range(0, nb, 2):\n",
    "        x = int(rd.randint(0, 500))\n",
    "        y = int(rd.randint(0, 500))\n",
    "        fichier.write(str(x) + \" \" + str(y) + \"\\n\")\n",
    "fichier.close()"
   ]
  }
 ],
 "metadata": {
  "interpreter": {
   "hash": "ebae4228187085f945749b60b4bb20b772b75c04e25aa5afd8fc301cff15a435"
  },
  "kernelspec": {
   "display_name": "Python 3.9.7 ('l1-python')",
   "language": "python",
   "name": "python3"
  },
  "language_info": {
   "codemirror_mode": {
    "name": "ipython",
    "version": 3
   },
   "file_extension": ".py",
   "mimetype": "text/x-python",
   "name": "python",
   "nbconvert_exporter": "python",
   "pygments_lexer": "ipython3",
   "version": "3.9.7"
  },
  "orig_nbformat": 4
 },
 "nbformat": 4,
 "nbformat_minor": 2
}
